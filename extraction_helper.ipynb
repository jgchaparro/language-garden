{
 "cells": [
  {
   "cell_type": "code",
   "execution_count": 11,
   "metadata": {},
   "outputs": [
    {
     "name": "stdout",
     "output_type": "stream",
     "text": [
      "The autoreload extension is already loaded. To reload it, use:\n",
      "  %reload_ext autoreload\n"
     ]
    }
   ],
   "source": [
    "import pandas as pd\n",
    "import sqlite3\n",
    "import os\n",
    "from deep_translator import GoogleTranslator\n",
    "\n",
    "%load_ext autoreload\n",
    "%autoreload 2\n",
    "from src.text_adder import TextAdder"
   ]
  },
  {
   "cell_type": "markdown",
   "metadata": {},
   "source": [
    "## Main settings"
   ]
  },
  {
   "cell_type": "code",
   "execution_count": 12,
   "metadata": {},
   "outputs": [],
   "source": [
    "garden_code = 'fax'\n",
    "target_language = 'spa'\n",
    "target_language_iso2 = 'es'\n",
    "other_languages = [\n",
    "    ('eng', 'en'),\n",
    "    # ('spa', 'es')\n",
    "    ]\n",
    "variety_id = 1\n",
    "year = 2024\n",
    "author = 'Ayuntamiento de San Martín de Trevejo'\n",
    "batch = 1\n",
    "set_ = None\n",
    "source_id = 1"
   ]
  },
  {
   "cell_type": "code",
   "execution_count": 13,
   "metadata": {},
   "outputs": [],
   "source": [
    "# Connect to the database\n",
    "db_path = os.path.join('gardens', f'language-garden-{garden_code}', 'pipeline', '0_general', 'databases', f'{garden_code}.sqlite3')\n",
    "text_adder = TextAdder(db_path)"
   ]
  },
  {
   "cell_type": "markdown",
   "metadata": {},
   "source": [
    "# Execution"
   ]
  },
  {
   "cell_type": "code",
   "execution_count": 4,
   "metadata": {},
   "outputs": [],
   "source": [
    "# url = input('Enter the source URL: ')\n",
    "url = \"https://www.facebook.com/profile.php?id=100095081403072\"\n",
    "origin_text = input('Enter the original text: ')\n",
    "target_text = input('Enter the translation: ')"
   ]
  },
  {
   "cell_type": "code",
   "execution_count": 5,
   "metadata": {},
   "outputs": [
    {
     "data": {
      "text/html": [
       "<div>\n",
       "<style scoped>\n",
       "    .dataframe tbody tr th:only-of-type {\n",
       "        vertical-align: middle;\n",
       "    }\n",
       "\n",
       "    .dataframe tbody tr th {\n",
       "        vertical-align: top;\n",
       "    }\n",
       "\n",
       "    .dataframe thead th {\n",
       "        text-align: right;\n",
       "    }\n",
       "</style>\n",
       "<table border=\"1\" class=\"dataframe\">\n",
       "  <thead>\n",
       "    <tr style=\"text-align: right;\">\n",
       "      <th></th>\n",
       "      <th>intratext_id</th>\n",
       "      <th>fax</th>\n",
       "      <th>spa</th>\n",
       "      <th>batch</th>\n",
       "      <th>set</th>\n",
       "      <th>eng</th>\n",
       "    </tr>\n",
       "  </thead>\n",
       "  <tbody>\n",
       "    <tr>\n",
       "      <th>0</th>\n",
       "      <td>1</td>\n",
       "      <td>Esti próximu día 7 de diciembri celebramus o D...</td>\n",
       "      <td>Este próximo día 7 de diciembre celebramos el ...</td>\n",
       "      <td>1</td>\n",
       "      <td>None</td>\n",
       "      <td>This coming December 7th we celebrate Día da F...</td>\n",
       "    </tr>\n",
       "  </tbody>\n",
       "</table>\n",
       "</div>"
      ],
      "text/plain": [
       "   intratext_id                                                fax  \\\n",
       "0             1  Esti próximu día 7 de diciembri celebramus o D...   \n",
       "\n",
       "                                                 spa  batch   set  \\\n",
       "0  Este próximo día 7 de diciembre celebramos el ...      1  None   \n",
       "\n",
       "                                                 eng  \n",
       "0  This coming December 7th we celebrate Día da F...  "
      ]
     },
     "execution_count": 5,
     "metadata": {},
     "output_type": "execute_result"
    }
   ],
   "source": [
    "# Create text df\n",
    "text_df = pd.DataFrame({\n",
    "    'intratext_id': [1],\n",
    "    garden_code : [origin_text],\n",
    "    target_language : [target_text],\n",
    "    'batch': [batch],\n",
    "    'set': [set_]\n",
    "})\n",
    "\n",
    "# Update the dataframe with translations\n",
    "for iso3, iso2 in other_languages:\n",
    "    translator = GoogleTranslator(source= target_language_iso2, target= iso2)\n",
    "    translation = translator.translate(target_text) \n",
    "    text_df[iso3] = translation\n",
    "\n",
    "text_df"
   ]
  },
  {
   "cell_type": "markdown",
   "metadata": {},
   "source": [
    "# Adding to database"
   ]
  },
  {
   "cell_type": "code",
   "execution_count": 15,
   "metadata": {},
   "outputs": [
    {
     "name": "stdout",
     "output_type": "stream",
     "text": [
      "Text from '1' added to the database.\n"
     ]
    }
   ],
   "source": [
    "text_adder.main(text_df, \n",
    "                url = url, \n",
    "                author = author, \n",
    "                year = year, \n",
    "                variety_id = variety_id,\n",
    "                replace = False,\n",
    "                check_repeat = False,\n",
    "                source_id = source_id)"
   ]
  }
 ],
 "metadata": {
  "kernelspec": {
   "display_name": ".venv",
   "language": "python",
   "name": "python3"
  },
  "language_info": {
   "codemirror_mode": {
    "name": "ipython",
    "version": 3
   },
   "file_extension": ".py",
   "mimetype": "text/x-python",
   "name": "python",
   "nbconvert_exporter": "python",
   "pygments_lexer": "ipython3",
   "version": "3.12.4"
  }
 },
 "nbformat": 4,
 "nbformat_minor": 2
}
