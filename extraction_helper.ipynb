{
 "cells": [
  {
   "cell_type": "code",
   "execution_count": 16,
   "metadata": {},
   "outputs": [
    {
     "name": "stdout",
     "output_type": "stream",
     "text": [
      "The autoreload extension is already loaded. To reload it, use:\n",
      "  %reload_ext autoreload\n"
     ]
    }
   ],
   "source": [
    "import pandas as pd\n",
    "import sqlite3\n",
    "import os\n",
    "from deep_translator import GoogleTranslator\n",
    "\n",
    "%load_ext autoreload\n",
    "%autoreload 2\n",
    "from src.text_adder import TextAdder"
   ]
  },
  {
   "cell_type": "markdown",
   "metadata": {},
   "source": [
    "## Main settings"
   ]
  },
  {
   "cell_type": "code",
   "execution_count": 17,
   "metadata": {},
   "outputs": [],
   "source": [
    "garden_code = 'tsd'\n",
    "target_language = 'ell'\n",
    "target_language_iso2 = 'el'\n",
    "other_languages = [\n",
    "    ('eng', 'en'),\n",
    "    ('spa', 'es')\n",
    "    ]\n",
    "variety_id = 0\n",
    "year = 2024\n",
    "author = 'Πάνος Μαρνέρης'\n",
    "batch = 2\n",
    "set_ = None"
   ]
  },
  {
   "cell_type": "code",
   "execution_count": 18,
   "metadata": {},
   "outputs": [],
   "source": [
    "# Connect to the database\n",
    "db_path = os.path.join(f'language-garden-{garden_code}', 'pipeline', '0_general', 'databases', f'{garden_code}.sqlite3')\n",
    "text_adder = TextAdder(db_path)"
   ]
  },
  {
   "cell_type": "markdown",
   "metadata": {},
   "source": [
    "# Execution"
   ]
  },
  {
   "cell_type": "code",
   "execution_count": 19,
   "metadata": {},
   "outputs": [],
   "source": [
    "url = input('Enter the source URL: ')\n",
    "origin_text = input('Enter the original text: ')\n",
    "target_text = input('Enter the translation: ')"
   ]
  },
  {
   "cell_type": "code",
   "execution_count": 22,
   "metadata": {},
   "outputs": [
    {
     "data": {
      "text/html": [
       "<div>\n",
       "<style scoped>\n",
       "    .dataframe tbody tr th:only-of-type {\n",
       "        vertical-align: middle;\n",
       "    }\n",
       "\n",
       "    .dataframe tbody tr th {\n",
       "        vertical-align: top;\n",
       "    }\n",
       "\n",
       "    .dataframe thead th {\n",
       "        text-align: right;\n",
       "    }\n",
       "</style>\n",
       "<table border=\"1\" class=\"dataframe\">\n",
       "  <thead>\n",
       "    <tr style=\"text-align: right;\">\n",
       "      <th></th>\n",
       "      <th>intratext_id</th>\n",
       "      <th>tsd</th>\n",
       "      <th>ell</th>\n",
       "      <th>batch</th>\n",
       "      <th>set</th>\n",
       "      <th>eng</th>\n",
       "      <th>spa</th>\n",
       "    </tr>\n",
       "  </thead>\n",
       "  <tbody>\n",
       "    <tr>\n",
       "      <th>0</th>\n",
       "      <td>1</td>\n",
       "      <td>Όλα</td>\n",
       "      <td>Όλα</td>\n",
       "      <td>2</td>\n",
       "      <td>None</td>\n",
       "      <td>All</td>\n",
       "      <td>Todo</td>\n",
       "    </tr>\n",
       "  </tbody>\n",
       "</table>\n",
       "</div>"
      ],
      "text/plain": [
       "   intratext_id  tsd  ell  batch   set  eng   spa\n",
       "0             1  Όλα  Όλα      2  None  All  Todo"
      ]
     },
     "execution_count": 22,
     "metadata": {},
     "output_type": "execute_result"
    }
   ],
   "source": [
    "# Create text df\n",
    "text_df = pd.DataFrame({\n",
    "    'intratext_id': [1],\n",
    "    garden_code : [origin_text],\n",
    "    target_language : [target_text],\n",
    "    'batch': [batch],\n",
    "    'set': [set_]\n",
    "})\n",
    "\n",
    "# Update the dataframe with translations\n",
    "for iso3, iso2 in other_languages:\n",
    "    translator = GoogleTranslator(source= target_language_iso2, target= iso2)\n",
    "    translation = translator.translate(target_text) \n",
    "    text_df[iso3] = translation\n",
    "\n",
    "text_df"
   ]
  },
  {
   "cell_type": "markdown",
   "metadata": {},
   "source": [
    "# Adding to database"
   ]
  },
  {
   "cell_type": "code",
   "execution_count": 23,
   "metadata": {},
   "outputs": [
    {
     "name": "stdout",
     "output_type": "stream",
     "text": [
      "Query executed successfully. No results to show.\n",
      "Query executed successfully. No results to show.\n",
      "Source 'a' with ID 87 added to the database.\n",
      "Query executed successfully. No results to show.\n",
      "Text from '87' added to the database.\n"
     ]
    }
   ],
   "source": [
    "text_adder.main(text_df, \n",
    "                url = url, \n",
    "                author = author, \n",
    "                year = year, \n",
    "                variety_id = variety_id,\n",
    "                replace = False)"
   ]
  }
 ],
 "metadata": {
  "kernelspec": {
   "display_name": ".venv",
   "language": "python",
   "name": "python3"
  },
  "language_info": {
   "codemirror_mode": {
    "name": "ipython",
    "version": 3
   },
   "file_extension": ".py",
   "mimetype": "text/x-python",
   "name": "python",
   "nbconvert_exporter": "python",
   "pygments_lexer": "ipython3",
   "version": "3.12.4"
  }
 },
 "nbformat": 4,
 "nbformat_minor": 2
}
